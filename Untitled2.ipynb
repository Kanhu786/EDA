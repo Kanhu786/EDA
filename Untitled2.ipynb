{
 "cells": [
  {
   "cell_type": "code",
   "execution_count": null,
   "id": "02c820c5-14f8-4ee1-b806-c45b8befbff1",
   "metadata": {},
   "outputs": [],
   "source": [
    "step-1: Read the data\n",
    "step-2: Data quick checks\n",
    "        a)dtypes columns shape size info\n",
    "step-3:convert categorical columns\n",
    "        Numerical columns names separately\n",
    "step-4: You need fill the missing values \n",
    "step-5: categorical data analysis\n",
    "        unique,value count,bar chart ,count plot,pie chart\n",
    "step-6:Numerical columns analysis\n",
    "        Descri function\n",
    "        Histogram\n",
    "        data skewness\n",
    "step-7: Box plot Creation \n",
    "        Outlier analysis\n",
    "step-8: Transformation methods\n",
    "step-9: Encoding methods\n",
    "        map,np.where\n",
    "        LabelEncoder\n",
    "        onehot encoder\n",
    "step-10:scaling methods\n",
    "        z\n",
    "        minmax scalar\n",
    "step-11:\n",
    "\n",
    "columns ====== fertures =======variables\n",
    "columns are two types \n",
    "input column--Independent\n",
    "output column ---Depending,Target column\n",
    "=========================================\n",
    "Rows=== field ===instances===tuples\n",
    "values"
   ]
  }
 ],
 "metadata": {
  "kernelspec": {
   "display_name": "Python 3 (ipykernel)",
   "language": "python",
   "name": "python3"
  },
  "language_info": {
   "codemirror_mode": {
    "name": "ipython",
    "version": 3
   },
   "file_extension": ".py",
   "mimetype": "text/x-python",
   "name": "python",
   "nbconvert_exporter": "python",
   "pygments_lexer": "ipython3",
   "version": "3.11.7"
  }
 },
 "nbformat": 4,
 "nbformat_minor": 5
}
