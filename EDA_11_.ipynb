{
 "cells": [
  {
   "cell_type": "code",
   "execution_count": 1,
   "id": "1c80f502-3716-47b5-94e6-b8e1e0d4b6e5",
   "metadata": {},
   "outputs": [],
   "source": [
    "import pandas as pd\n",
    "import numpy as np\n",
    "import matplotlib.pyplot as plt\n",
    "import seaborn as sns"
   ]
  },
  {
   "cell_type": "code",
   "execution_count": 2,
   "id": "503203a3-c82a-43aa-b5e6-52489f1a9d4d",
   "metadata": {},
   "outputs": [
    {
     "data": {
      "text/plain": [
       "{'Names': ['Aravind', 'Samar', nan, 'Siri'],\n",
       " 'Age': [nan, 21, 32, 43],\n",
       " 'City': ['Hyd', 'Blr', 'Chennai', nan]}"
      ]
     },
     "execution_count": 2,
     "metadata": {},
     "output_type": "execute_result"
    }
   ],
   "source": [
    "dict1={'Names':['Aravind','Samar',np.nan,'Siri'],\n",
    "       'Age':[np.nan,21,32,43],\n",
    "       'City':['Hyd','Blr','Chennai',np.nan]}\n",
    "dict1                "
   ]
  },
  {
   "cell_type": "code",
   "execution_count": 6,
   "id": "4e6a1d00-9ec5-45e9-ac46-a90bde66cfea",
   "metadata": {},
   "outputs": [
    {
     "data": {
      "text/html": [
       "<div>\n",
       "<style scoped>\n",
       "    .dataframe tbody tr th:only-of-type {\n",
       "        vertical-align: middle;\n",
       "    }\n",
       "\n",
       "    .dataframe tbody tr th {\n",
       "        vertical-align: top;\n",
       "    }\n",
       "\n",
       "    .dataframe thead th {\n",
       "        text-align: right;\n",
       "    }\n",
       "</style>\n",
       "<table border=\"1\" class=\"dataframe\">\n",
       "  <thead>\n",
       "    <tr style=\"text-align: right;\">\n",
       "      <th></th>\n",
       "      <th>Names</th>\n",
       "      <th>Age</th>\n",
       "      <th>City</th>\n",
       "    </tr>\n",
       "  </thead>\n",
       "  <tbody>\n",
       "    <tr>\n",
       "      <th>0</th>\n",
       "      <td>Aravind</td>\n",
       "      <td>NaN</td>\n",
       "      <td>Hyd</td>\n",
       "    </tr>\n",
       "    <tr>\n",
       "      <th>1</th>\n",
       "      <td>Samar</td>\n",
       "      <td>21.0</td>\n",
       "      <td>Blr</td>\n",
       "    </tr>\n",
       "    <tr>\n",
       "      <th>2</th>\n",
       "      <td>NaN</td>\n",
       "      <td>32.0</td>\n",
       "      <td>Chennai</td>\n",
       "    </tr>\n",
       "    <tr>\n",
       "      <th>3</th>\n",
       "      <td>Siri</td>\n",
       "      <td>43.0</td>\n",
       "      <td>NaN</td>\n",
       "    </tr>\n",
       "  </tbody>\n",
       "</table>\n",
       "</div>"
      ],
      "text/plain": [
       "     Names   Age     City\n",
       "0  Aravind   NaN      Hyd\n",
       "1    Samar  21.0      Blr\n",
       "2      NaN  32.0  Chennai\n",
       "3     Siri  43.0      NaN"
      ]
     },
     "execution_count": 6,
     "metadata": {},
     "output_type": "execute_result"
    }
   ],
   "source": [
    "d1=pd.DataFrame(dict1)\n",
    "d1"
   ]
  },
  {
   "cell_type": "code",
   "execution_count": 5,
   "id": "593adb58-586e-4535-adcd-b92f886e26cc",
   "metadata": {},
   "outputs": [
    {
     "data": {
      "text/plain": [
       "Names     object\n",
       "Age      float64\n",
       "City      object\n",
       "dtype: object"
      ]
     },
     "execution_count": 5,
     "metadata": {},
     "output_type": "execute_result"
    }
   ],
   "source": [
    "d1.dtypes"
   ]
  },
  {
   "cell_type": "code",
   "execution_count": 8,
   "id": "da5d412b-5785-42dc-95d1-6a668929a5c7",
   "metadata": {},
   "outputs": [
    {
     "data": {
      "text/html": [
       "<div>\n",
       "<style scoped>\n",
       "    .dataframe tbody tr th:only-of-type {\n",
       "        vertical-align: middle;\n",
       "    }\n",
       "\n",
       "    .dataframe tbody tr th {\n",
       "        vertical-align: top;\n",
       "    }\n",
       "\n",
       "    .dataframe thead th {\n",
       "        text-align: right;\n",
       "    }\n",
       "</style>\n",
       "<table border=\"1\" class=\"dataframe\">\n",
       "  <thead>\n",
       "    <tr style=\"text-align: right;\">\n",
       "      <th></th>\n",
       "      <th>Names</th>\n",
       "      <th>Age</th>\n",
       "      <th>City</th>\n",
       "    </tr>\n",
       "  </thead>\n",
       "  <tbody>\n",
       "    <tr>\n",
       "      <th>0</th>\n",
       "      <td>Aravind</td>\n",
       "      <td>NaN</td>\n",
       "      <td>Hyd</td>\n",
       "    </tr>\n",
       "    <tr>\n",
       "      <th>1</th>\n",
       "      <td>Samar</td>\n",
       "      <td>21.0</td>\n",
       "      <td>Blr</td>\n",
       "    </tr>\n",
       "    <tr>\n",
       "      <th>2</th>\n",
       "      <td>None</td>\n",
       "      <td>32.0</td>\n",
       "      <td>Chennai</td>\n",
       "    </tr>\n",
       "    <tr>\n",
       "      <th>3</th>\n",
       "      <td>Siri</td>\n",
       "      <td>43.0</td>\n",
       "      <td>None</td>\n",
       "    </tr>\n",
       "  </tbody>\n",
       "</table>\n",
       "</div>"
      ],
      "text/plain": [
       "     Names   Age     City\n",
       "0  Aravind   NaN      Hyd\n",
       "1    Samar  21.0      Blr\n",
       "2     None  32.0  Chennai\n",
       "3     Siri  43.0     None"
      ]
     },
     "execution_count": 8,
     "metadata": {},
     "output_type": "execute_result"
    }
   ],
   "source": [
    "dict2={'Names':['Aravind','Samar',None,'Siri'],\n",
    "       'Age':[None,21,32,43],\n",
    "       'City':['Hyd','Blr','Chennai',None]}\n",
    "pd.DataFrame(dict2)"
   ]
  },
  {
   "cell_type": "code",
   "execution_count": 12,
   "id": "7f290921-1fa0-429c-a07e-e35158aaa510",
   "metadata": {},
   "outputs": [
    {
     "data": {
      "text/html": [
       "<div>\n",
       "<style scoped>\n",
       "    .dataframe tbody tr th:only-of-type {\n",
       "        vertical-align: middle;\n",
       "    }\n",
       "\n",
       "    .dataframe tbody tr th {\n",
       "        vertical-align: top;\n",
       "    }\n",
       "\n",
       "    .dataframe thead th {\n",
       "        text-align: right;\n",
       "    }\n",
       "</style>\n",
       "<table border=\"1\" class=\"dataframe\">\n",
       "  <thead>\n",
       "    <tr style=\"text-align: right;\">\n",
       "      <th></th>\n",
       "      <th>Names</th>\n",
       "      <th>Age</th>\n",
       "      <th>City</th>\n",
       "    </tr>\n",
       "  </thead>\n",
       "  <tbody>\n",
       "    <tr>\n",
       "      <th>0</th>\n",
       "      <td>False</td>\n",
       "      <td>True</td>\n",
       "      <td>False</td>\n",
       "    </tr>\n",
       "    <tr>\n",
       "      <th>1</th>\n",
       "      <td>False</td>\n",
       "      <td>False</td>\n",
       "      <td>False</td>\n",
       "    </tr>\n",
       "    <tr>\n",
       "      <th>2</th>\n",
       "      <td>True</td>\n",
       "      <td>False</td>\n",
       "      <td>False</td>\n",
       "    </tr>\n",
       "    <tr>\n",
       "      <th>3</th>\n",
       "      <td>False</td>\n",
       "      <td>False</td>\n",
       "      <td>True</td>\n",
       "    </tr>\n",
       "  </tbody>\n",
       "</table>\n",
       "</div>"
      ],
      "text/plain": [
       "   Names    Age   City\n",
       "0  False   True  False\n",
       "1  False  False  False\n",
       "2   True  False  False\n",
       "3  False  False   True"
      ]
     },
     "execution_count": 12,
     "metadata": {},
     "output_type": "execute_result"
    }
   ],
   "source": [
    "d1.isnull()"
   ]
  },
  {
   "cell_type": "code",
   "execution_count": 13,
   "id": "640ff3ee-1851-4980-b968-0e9670cc4998",
   "metadata": {},
   "outputs": [
    {
     "data": {
      "text/plain": [
       "Names    1\n",
       "Age      1\n",
       "City     1\n",
       "dtype: int64"
      ]
     },
     "execution_count": 13,
     "metadata": {},
     "output_type": "execute_result"
    }
   ],
   "source": [
    "d1.isnull().sum()"
   ]
  },
  {
   "cell_type": "markdown",
   "id": "62cbace8-1a4b-4964-9f57-773295ecc250",
   "metadata": {},
   "source": [
    "- np.nan: not a number this appicable for numerical columns only"
   ]
  },
  {
   "cell_type": "markdown",
   "id": "2db169a4-80f8-4bbb-a3de-055193e4cdd8",
   "metadata": {},
   "source": [
    "- Generally data has some empty rows\n",
    "\n",
    "- It is a data problem\n",
    "\n",
    "- If you read that kind of data  you will see null\n",
    "\n",
    "- You need to understand it is a data corrupted or really a Null values are there"
   ]
  },
  {
   "cell_type": "markdown",
   "id": "a622446c-e034-4a01-bc5d-aea845f79ab6",
   "metadata": {},
   "source": [
    "### method-1"
   ]
  },
  {
   "cell_type": "code",
   "execution_count": 15,
   "id": "4e9faa91-a04f-45e2-8070-9152d2f010c1",
   "metadata": {},
   "outputs": [
    {
     "data": {
      "text/plain": [
       "Names    25.0\n",
       "Age      25.0\n",
       "City     25.0\n",
       "dtype: float64"
      ]
     },
     "execution_count": 15,
     "metadata": {},
     "output_type": "execute_result"
    }
   ],
   "source": [
    "d1.isnull().sum()*100/len(d1)"
   ]
  },
  {
   "cell_type": "code",
   "execution_count": 16,
   "id": "28352d0b-ec3c-4787-9c0e-535c93c25618",
   "metadata": {},
   "outputs": [
    {
     "data": {
      "text/html": [
       "<div>\n",
       "<style scoped>\n",
       "    .dataframe tbody tr th:only-of-type {\n",
       "        vertical-align: middle;\n",
       "    }\n",
       "\n",
       "    .dataframe tbody tr th {\n",
       "        vertical-align: top;\n",
       "    }\n",
       "\n",
       "    .dataframe thead th {\n",
       "        text-align: right;\n",
       "    }\n",
       "</style>\n",
       "<table border=\"1\" class=\"dataframe\">\n",
       "  <thead>\n",
       "    <tr style=\"text-align: right;\">\n",
       "      <th></th>\n",
       "      <th>Names</th>\n",
       "      <th>Age</th>\n",
       "      <th>City</th>\n",
       "    </tr>\n",
       "  </thead>\n",
       "  <tbody>\n",
       "    <tr>\n",
       "      <th>0</th>\n",
       "      <td>Aravind</td>\n",
       "      <td>40.0</td>\n",
       "      <td>Hyd</td>\n",
       "    </tr>\n",
       "    <tr>\n",
       "      <th>1</th>\n",
       "      <td>Samar</td>\n",
       "      <td>21.0</td>\n",
       "      <td>Blr</td>\n",
       "    </tr>\n",
       "    <tr>\n",
       "      <th>2</th>\n",
       "      <td>40</td>\n",
       "      <td>32.0</td>\n",
       "      <td>Chennai</td>\n",
       "    </tr>\n",
       "    <tr>\n",
       "      <th>3</th>\n",
       "      <td>Siri</td>\n",
       "      <td>43.0</td>\n",
       "      <td>40</td>\n",
       "    </tr>\n",
       "  </tbody>\n",
       "</table>\n",
       "</div>"
      ],
      "text/plain": [
       "     Names   Age     City\n",
       "0  Aravind  40.0      Hyd\n",
       "1    Samar  21.0      Blr\n",
       "2       40  32.0  Chennai\n",
       "3     Siri  43.0       40"
      ]
     },
     "execution_count": 16,
     "metadata": {},
     "output_type": "execute_result"
    }
   ],
   "source": [
    "d1.fillna(40)"
   ]
  },
  {
   "cell_type": "markdown",
   "id": "b7bf8916-3cd0-4a2b-8a5a-16fbe4e708d6",
   "metadata": {},
   "source": [
    "**method2**\n",
    "\n",
    "- we can fill the values w.r.t columns also"
   ]
  },
  {
   "cell_type": "code",
   "execution_count": 17,
   "id": "67e38b27-912d-4091-8d55-fd1f950ec9e1",
   "metadata": {},
   "outputs": [
    {
     "data": {
      "text/plain": [
       "0    40.0\n",
       "1    21.0\n",
       "2    32.0\n",
       "3    43.0\n",
       "Name: Age, dtype: float64"
      ]
     },
     "execution_count": 17,
     "metadata": {},
     "output_type": "execute_result"
    }
   ],
   "source": [
    "d1['Age'].fillna(40)\n",
    "# it is not update\n",
    "# inplace=False"
   ]
  },
  {
   "cell_type": "code",
   "execution_count": 18,
   "id": "4d69fdbd-ad56-43ab-9acb-1ee90de0926d",
   "metadata": {},
   "outputs": [
    {
     "data": {
      "text/html": [
       "<div>\n",
       "<style scoped>\n",
       "    .dataframe tbody tr th:only-of-type {\n",
       "        vertical-align: middle;\n",
       "    }\n",
       "\n",
       "    .dataframe tbody tr th {\n",
       "        vertical-align: top;\n",
       "    }\n",
       "\n",
       "    .dataframe thead th {\n",
       "        text-align: right;\n",
       "    }\n",
       "</style>\n",
       "<table border=\"1\" class=\"dataframe\">\n",
       "  <thead>\n",
       "    <tr style=\"text-align: right;\">\n",
       "      <th></th>\n",
       "      <th>Names</th>\n",
       "      <th>Age</th>\n",
       "      <th>City</th>\n",
       "    </tr>\n",
       "  </thead>\n",
       "  <tbody>\n",
       "    <tr>\n",
       "      <th>0</th>\n",
       "      <td>Aravind</td>\n",
       "      <td>NaN</td>\n",
       "      <td>Hyd</td>\n",
       "    </tr>\n",
       "    <tr>\n",
       "      <th>1</th>\n",
       "      <td>Samar</td>\n",
       "      <td>21.0</td>\n",
       "      <td>Blr</td>\n",
       "    </tr>\n",
       "    <tr>\n",
       "      <th>2</th>\n",
       "      <td>NaN</td>\n",
       "      <td>32.0</td>\n",
       "      <td>Chennai</td>\n",
       "    </tr>\n",
       "    <tr>\n",
       "      <th>3</th>\n",
       "      <td>Siri</td>\n",
       "      <td>43.0</td>\n",
       "      <td>NaN</td>\n",
       "    </tr>\n",
       "  </tbody>\n",
       "</table>\n",
       "</div>"
      ],
      "text/plain": [
       "     Names   Age     City\n",
       "0  Aravind   NaN      Hyd\n",
       "1    Samar  21.0      Blr\n",
       "2      NaN  32.0  Chennai\n",
       "3     Siri  43.0      NaN"
      ]
     },
     "execution_count": 18,
     "metadata": {},
     "output_type": "execute_result"
    }
   ],
   "source": [
    "d1"
   ]
  },
  {
   "cell_type": "code",
   "execution_count": 19,
   "id": "1dea6469-fa14-47ad-bd50-79433b727414",
   "metadata": {},
   "outputs": [],
   "source": [
    "d1['Age'].fillna(40,inplace=True)"
   ]
  },
  {
   "cell_type": "code",
   "execution_count": 20,
   "id": "ec6c005b-faab-407a-8bb8-70aca8be98bb",
   "metadata": {},
   "outputs": [
    {
     "data": {
      "text/html": [
       "<div>\n",
       "<style scoped>\n",
       "    .dataframe tbody tr th:only-of-type {\n",
       "        vertical-align: middle;\n",
       "    }\n",
       "\n",
       "    .dataframe tbody tr th {\n",
       "        vertical-align: top;\n",
       "    }\n",
       "\n",
       "    .dataframe thead th {\n",
       "        text-align: right;\n",
       "    }\n",
       "</style>\n",
       "<table border=\"1\" class=\"dataframe\">\n",
       "  <thead>\n",
       "    <tr style=\"text-align: right;\">\n",
       "      <th></th>\n",
       "      <th>Names</th>\n",
       "      <th>Age</th>\n",
       "      <th>City</th>\n",
       "    </tr>\n",
       "  </thead>\n",
       "  <tbody>\n",
       "    <tr>\n",
       "      <th>0</th>\n",
       "      <td>Aravind</td>\n",
       "      <td>40.0</td>\n",
       "      <td>Hyd</td>\n",
       "    </tr>\n",
       "    <tr>\n",
       "      <th>1</th>\n",
       "      <td>Samar</td>\n",
       "      <td>21.0</td>\n",
       "      <td>Blr</td>\n",
       "    </tr>\n",
       "    <tr>\n",
       "      <th>2</th>\n",
       "      <td>NaN</td>\n",
       "      <td>32.0</td>\n",
       "      <td>Chennai</td>\n",
       "    </tr>\n",
       "    <tr>\n",
       "      <th>3</th>\n",
       "      <td>Siri</td>\n",
       "      <td>43.0</td>\n",
       "      <td>NaN</td>\n",
       "    </tr>\n",
       "  </tbody>\n",
       "</table>\n",
       "</div>"
      ],
      "text/plain": [
       "     Names   Age     City\n",
       "0  Aravind  40.0      Hyd\n",
       "1    Samar  21.0      Blr\n",
       "2      NaN  32.0  Chennai\n",
       "3     Siri  43.0      NaN"
      ]
     },
     "execution_count": 20,
     "metadata": {},
     "output_type": "execute_result"
    }
   ],
   "source": [
    "d1"
   ]
  },
  {
   "cell_type": "code",
   "execution_count": 23,
   "id": "45859eec-42d9-4460-81bd-9cab2a7a9cd3",
   "metadata": {},
   "outputs": [],
   "source": [
    "d1['Names'].fillna('Mrx',inplace=True)"
   ]
  },
  {
   "cell_type": "code",
   "execution_count": 24,
   "id": "bbdf85fa-d7f5-4e68-875e-bcdf2d8f435a",
   "metadata": {},
   "outputs": [],
   "source": [
    "d1['City'].fillna('Berhampur',inplace=True)"
   ]
  },
  {
   "cell_type": "code",
   "execution_count": 25,
   "id": "778e1075-42a9-4140-9cc3-6a27b05b9749",
   "metadata": {},
   "outputs": [
    {
     "data": {
      "text/html": [
       "<div>\n",
       "<style scoped>\n",
       "    .dataframe tbody tr th:only-of-type {\n",
       "        vertical-align: middle;\n",
       "    }\n",
       "\n",
       "    .dataframe tbody tr th {\n",
       "        vertical-align: top;\n",
       "    }\n",
       "\n",
       "    .dataframe thead th {\n",
       "        text-align: right;\n",
       "    }\n",
       "</style>\n",
       "<table border=\"1\" class=\"dataframe\">\n",
       "  <thead>\n",
       "    <tr style=\"text-align: right;\">\n",
       "      <th></th>\n",
       "      <th>Names</th>\n",
       "      <th>Age</th>\n",
       "      <th>City</th>\n",
       "    </tr>\n",
       "  </thead>\n",
       "  <tbody>\n",
       "    <tr>\n",
       "      <th>0</th>\n",
       "      <td>Aravind</td>\n",
       "      <td>40.0</td>\n",
       "      <td>Hyd</td>\n",
       "    </tr>\n",
       "    <tr>\n",
       "      <th>1</th>\n",
       "      <td>Samar</td>\n",
       "      <td>21.0</td>\n",
       "      <td>Blr</td>\n",
       "    </tr>\n",
       "    <tr>\n",
       "      <th>2</th>\n",
       "      <td>Mrx</td>\n",
       "      <td>32.0</td>\n",
       "      <td>Chennai</td>\n",
       "    </tr>\n",
       "    <tr>\n",
       "      <th>3</th>\n",
       "      <td>Siri</td>\n",
       "      <td>43.0</td>\n",
       "      <td>Berhampur</td>\n",
       "    </tr>\n",
       "  </tbody>\n",
       "</table>\n",
       "</div>"
      ],
      "text/plain": [
       "     Names   Age       City\n",
       "0  Aravind  40.0        Hyd\n",
       "1    Samar  21.0        Blr\n",
       "2      Mrx  32.0    Chennai\n",
       "3     Siri  43.0  Berhampur"
      ]
     },
     "execution_count": 25,
     "metadata": {},
     "output_type": "execute_result"
    }
   ],
   "source": [
    "d1"
   ]
  },
  {
   "cell_type": "code",
   "execution_count": 26,
   "id": "509c02cf-b4e5-4514-ae66-31ed2864fa82",
   "metadata": {},
   "outputs": [],
   "source": [
    "dict1={'Names':['Aravind','Samar',np.nan,'Siri'],\n",
    "       'Age':[np.nan,21,32,43],\n",
    "       'City':['Hyd','Blr','Chennai',np.nan]}\n",
    "d1=pd.DataFrame(dict1)"
   ]
  },
  {
   "cell_type": "code",
   "execution_count": null,
   "id": "c1119578-a282-4ffc-b3d6-b10dc2bb34ca",
   "metadata": {},
   "outputs": [],
   "source": []
  },
  {
   "cell_type": "code",
   "execution_count": 28,
   "id": "39991f89-23b0-410f-aca9-d81ff51cecb1",
   "metadata": {},
   "outputs": [
    {
     "name": "stderr",
     "output_type": "stream",
     "text": [
      "C:\\Users\\kanhu\\AppData\\Local\\Temp\\ipykernel_100\\1914124427.py:1: FutureWarning: DataFrame.fillna with 'method' is deprecated and will raise in a future version. Use obj.ffill() or obj.bfill() instead.\n",
      "  d1.fillna(method='bfill')\n"
     ]
    },
    {
     "data": {
      "text/html": [
       "<div>\n",
       "<style scoped>\n",
       "    .dataframe tbody tr th:only-of-type {\n",
       "        vertical-align: middle;\n",
       "    }\n",
       "\n",
       "    .dataframe tbody tr th {\n",
       "        vertical-align: top;\n",
       "    }\n",
       "\n",
       "    .dataframe thead th {\n",
       "        text-align: right;\n",
       "    }\n",
       "</style>\n",
       "<table border=\"1\" class=\"dataframe\">\n",
       "  <thead>\n",
       "    <tr style=\"text-align: right;\">\n",
       "      <th></th>\n",
       "      <th>Names</th>\n",
       "      <th>Age</th>\n",
       "      <th>City</th>\n",
       "    </tr>\n",
       "  </thead>\n",
       "  <tbody>\n",
       "    <tr>\n",
       "      <th>0</th>\n",
       "      <td>Aravind</td>\n",
       "      <td>21.0</td>\n",
       "      <td>Hyd</td>\n",
       "    </tr>\n",
       "    <tr>\n",
       "      <th>1</th>\n",
       "      <td>Samar</td>\n",
       "      <td>21.0</td>\n",
       "      <td>Blr</td>\n",
       "    </tr>\n",
       "    <tr>\n",
       "      <th>2</th>\n",
       "      <td>Siri</td>\n",
       "      <td>32.0</td>\n",
       "      <td>Chennai</td>\n",
       "    </tr>\n",
       "    <tr>\n",
       "      <th>3</th>\n",
       "      <td>Siri</td>\n",
       "      <td>43.0</td>\n",
       "      <td>NaN</td>\n",
       "    </tr>\n",
       "  </tbody>\n",
       "</table>\n",
       "</div>"
      ],
      "text/plain": [
       "     Names   Age     City\n",
       "0  Aravind  21.0      Hyd\n",
       "1    Samar  21.0      Blr\n",
       "2     Siri  32.0  Chennai\n",
       "3     Siri  43.0      NaN"
      ]
     },
     "execution_count": 28,
     "metadata": {},
     "output_type": "execute_result"
    }
   ],
   "source": [
    "d1.fillna(method='bfill')"
   ]
  },
  {
   "cell_type": "code",
   "execution_count": 29,
   "id": "9f916ab4-849f-4a65-a395-6b0d7f4799b7",
   "metadata": {},
   "outputs": [
    {
     "name": "stderr",
     "output_type": "stream",
     "text": [
      "C:\\Users\\kanhu\\AppData\\Local\\Temp\\ipykernel_100\\4088926743.py:1: FutureWarning: DataFrame.fillna with 'method' is deprecated and will raise in a future version. Use obj.ffill() or obj.bfill() instead.\n",
      "  d1.fillna(method='ffill')\n"
     ]
    },
    {
     "data": {
      "text/html": [
       "<div>\n",
       "<style scoped>\n",
       "    .dataframe tbody tr th:only-of-type {\n",
       "        vertical-align: middle;\n",
       "    }\n",
       "\n",
       "    .dataframe tbody tr th {\n",
       "        vertical-align: top;\n",
       "    }\n",
       "\n",
       "    .dataframe thead th {\n",
       "        text-align: right;\n",
       "    }\n",
       "</style>\n",
       "<table border=\"1\" class=\"dataframe\">\n",
       "  <thead>\n",
       "    <tr style=\"text-align: right;\">\n",
       "      <th></th>\n",
       "      <th>Names</th>\n",
       "      <th>Age</th>\n",
       "      <th>City</th>\n",
       "    </tr>\n",
       "  </thead>\n",
       "  <tbody>\n",
       "    <tr>\n",
       "      <th>0</th>\n",
       "      <td>Aravind</td>\n",
       "      <td>NaN</td>\n",
       "      <td>Hyd</td>\n",
       "    </tr>\n",
       "    <tr>\n",
       "      <th>1</th>\n",
       "      <td>Samar</td>\n",
       "      <td>21.0</td>\n",
       "      <td>Blr</td>\n",
       "    </tr>\n",
       "    <tr>\n",
       "      <th>2</th>\n",
       "      <td>Samar</td>\n",
       "      <td>32.0</td>\n",
       "      <td>Chennai</td>\n",
       "    </tr>\n",
       "    <tr>\n",
       "      <th>3</th>\n",
       "      <td>Siri</td>\n",
       "      <td>43.0</td>\n",
       "      <td>Chennai</td>\n",
       "    </tr>\n",
       "  </tbody>\n",
       "</table>\n",
       "</div>"
      ],
      "text/plain": [
       "     Names   Age     City\n",
       "0  Aravind   NaN      Hyd\n",
       "1    Samar  21.0      Blr\n",
       "2    Samar  32.0  Chennai\n",
       "3     Siri  43.0  Chennai"
      ]
     },
     "execution_count": 29,
     "metadata": {},
     "output_type": "execute_result"
    }
   ],
   "source": [
    "d1.fillna(method='ffill')"
   ]
  },
  {
   "cell_type": "code",
   "execution_count": 30,
   "id": "83710a96-f118-400f-8669-239593180a58",
   "metadata": {},
   "outputs": [
    {
     "name": "stderr",
     "output_type": "stream",
     "text": [
      "C:\\Users\\kanhu\\AppData\\Local\\Temp\\ipykernel_100\\3282249208.py:1: FutureWarning: DataFrame.fillna with 'method' is deprecated and will raise in a future version. Use obj.ffill() or obj.bfill() instead.\n",
      "  d1.fillna(method='pad')\n"
     ]
    },
    {
     "data": {
      "text/html": [
       "<div>\n",
       "<style scoped>\n",
       "    .dataframe tbody tr th:only-of-type {\n",
       "        vertical-align: middle;\n",
       "    }\n",
       "\n",
       "    .dataframe tbody tr th {\n",
       "        vertical-align: top;\n",
       "    }\n",
       "\n",
       "    .dataframe thead th {\n",
       "        text-align: right;\n",
       "    }\n",
       "</style>\n",
       "<table border=\"1\" class=\"dataframe\">\n",
       "  <thead>\n",
       "    <tr style=\"text-align: right;\">\n",
       "      <th></th>\n",
       "      <th>Names</th>\n",
       "      <th>Age</th>\n",
       "      <th>City</th>\n",
       "    </tr>\n",
       "  </thead>\n",
       "  <tbody>\n",
       "    <tr>\n",
       "      <th>0</th>\n",
       "      <td>Aravind</td>\n",
       "      <td>NaN</td>\n",
       "      <td>Hyd</td>\n",
       "    </tr>\n",
       "    <tr>\n",
       "      <th>1</th>\n",
       "      <td>Samar</td>\n",
       "      <td>21.0</td>\n",
       "      <td>Blr</td>\n",
       "    </tr>\n",
       "    <tr>\n",
       "      <th>2</th>\n",
       "      <td>Samar</td>\n",
       "      <td>32.0</td>\n",
       "      <td>Chennai</td>\n",
       "    </tr>\n",
       "    <tr>\n",
       "      <th>3</th>\n",
       "      <td>Siri</td>\n",
       "      <td>43.0</td>\n",
       "      <td>Chennai</td>\n",
       "    </tr>\n",
       "  </tbody>\n",
       "</table>\n",
       "</div>"
      ],
      "text/plain": [
       "     Names   Age     City\n",
       "0  Aravind   NaN      Hyd\n",
       "1    Samar  21.0      Blr\n",
       "2    Samar  32.0  Chennai\n",
       "3     Siri  43.0  Chennai"
      ]
     },
     "execution_count": 30,
     "metadata": {},
     "output_type": "execute_result"
    }
   ],
   "source": [
    "d1.fillna(method='pad')"
   ]
  },
  {
   "cell_type": "code",
   "execution_count": 33,
   "id": "a27c719d-0b30-4a7e-9d56-1c4638a98b71",
   "metadata": {},
   "outputs": [
    {
     "name": "stderr",
     "output_type": "stream",
     "text": [
      "C:\\Users\\kanhu\\AppData\\Local\\Temp\\ipykernel_100\\3586447502.py:1: FutureWarning: DataFrame.fillna with 'method' is deprecated and will raise in a future version. Use obj.ffill() or obj.bfill() instead.\n",
      "  d1.fillna(method='backfill',axis=1)\n"
     ]
    },
    {
     "data": {
      "text/html": [
       "<div>\n",
       "<style scoped>\n",
       "    .dataframe tbody tr th:only-of-type {\n",
       "        vertical-align: middle;\n",
       "    }\n",
       "\n",
       "    .dataframe tbody tr th {\n",
       "        vertical-align: top;\n",
       "    }\n",
       "\n",
       "    .dataframe thead th {\n",
       "        text-align: right;\n",
       "    }\n",
       "</style>\n",
       "<table border=\"1\" class=\"dataframe\">\n",
       "  <thead>\n",
       "    <tr style=\"text-align: right;\">\n",
       "      <th></th>\n",
       "      <th>Names</th>\n",
       "      <th>Age</th>\n",
       "      <th>City</th>\n",
       "    </tr>\n",
       "  </thead>\n",
       "  <tbody>\n",
       "    <tr>\n",
       "      <th>0</th>\n",
       "      <td>Aravind</td>\n",
       "      <td>Hyd</td>\n",
       "      <td>Hyd</td>\n",
       "    </tr>\n",
       "    <tr>\n",
       "      <th>1</th>\n",
       "      <td>Samar</td>\n",
       "      <td>21.0</td>\n",
       "      <td>Blr</td>\n",
       "    </tr>\n",
       "    <tr>\n",
       "      <th>2</th>\n",
       "      <td>32.0</td>\n",
       "      <td>32.0</td>\n",
       "      <td>Chennai</td>\n",
       "    </tr>\n",
       "    <tr>\n",
       "      <th>3</th>\n",
       "      <td>Siri</td>\n",
       "      <td>43.0</td>\n",
       "      <td>NaN</td>\n",
       "    </tr>\n",
       "  </tbody>\n",
       "</table>\n",
       "</div>"
      ],
      "text/plain": [
       "     Names   Age     City\n",
       "0  Aravind   Hyd      Hyd\n",
       "1    Samar  21.0      Blr\n",
       "2     32.0  32.0  Chennai\n",
       "3     Siri  43.0      NaN"
      ]
     },
     "execution_count": 33,
     "metadata": {},
     "output_type": "execute_result"
    }
   ],
   "source": [
    "d1.fillna(method='backfill',axis=1)"
   ]
  },
  {
   "cell_type": "markdown",
   "id": "6640c9c4-7add-4cb9-8e9a-75765dc4434a",
   "metadata": {},
   "source": [
    "- backfill and bill fill with next value\n",
    "\n",
    "- Pad and ffill fill with previous value\n",
    "\n",
    "- but it will change based on axis"
   ]
  },
  {
   "cell_type": "markdown",
   "id": "e0dbc5d8-5872-40f2-adc5-b3f3b0b1b843",
   "metadata": {},
   "source": [
    "#### method-4\n",
    "\n",
    "- mean\n",
    "\n",
    "    - Numerical values can fill with mean value\n",
    " \n",
    "    - but mean affect by outliers\n",
    " \n",
    "    - if we dont have outliers it is best one\n",
    "\n",
    "- median\n",
    "\n",
    "      - Numerical values can fill with median value\n",
    "\n",
    "- mode "
   ]
  },
  {
   "cell_type": "code",
   "execution_count": 34,
   "id": "4a574dd0-68da-4f9d-88c2-17e2e6aedfa0",
   "metadata": {},
   "outputs": [],
   "source": [
    "dict1={'Names':['Aravind','Samar',np.nan,'Siri'],\n",
    "       'Age':[np.nan,21,32,43],\n",
    "       'City':['Hyd','Blr','Chennai',np.nan]}\n",
    "d1=pd.DataFrame(dict1)\n",
    "# we already know we can fill with some values based on specific column using "
   ]
  },
  {
   "cell_type": "code",
   "execution_count": 35,
   "id": "688ebbf8-ebaf-4802-a2a7-315b45a352b3",
   "metadata": {},
   "outputs": [
    {
     "data": {
      "text/html": [
       "<div>\n",
       "<style scoped>\n",
       "    .dataframe tbody tr th:only-of-type {\n",
       "        vertical-align: middle;\n",
       "    }\n",
       "\n",
       "    .dataframe tbody tr th {\n",
       "        vertical-align: top;\n",
       "    }\n",
       "\n",
       "    .dataframe thead th {\n",
       "        text-align: right;\n",
       "    }\n",
       "</style>\n",
       "<table border=\"1\" class=\"dataframe\">\n",
       "  <thead>\n",
       "    <tr style=\"text-align: right;\">\n",
       "      <th></th>\n",
       "      <th>Names</th>\n",
       "      <th>Age</th>\n",
       "      <th>City</th>\n",
       "    </tr>\n",
       "  </thead>\n",
       "  <tbody>\n",
       "    <tr>\n",
       "      <th>0</th>\n",
       "      <td>Aravind</td>\n",
       "      <td>NaN</td>\n",
       "      <td>Hyd</td>\n",
       "    </tr>\n",
       "    <tr>\n",
       "      <th>1</th>\n",
       "      <td>Samar</td>\n",
       "      <td>21.0</td>\n",
       "      <td>Blr</td>\n",
       "    </tr>\n",
       "    <tr>\n",
       "      <th>2</th>\n",
       "      <td>NaN</td>\n",
       "      <td>32.0</td>\n",
       "      <td>Chennai</td>\n",
       "    </tr>\n",
       "    <tr>\n",
       "      <th>3</th>\n",
       "      <td>Siri</td>\n",
       "      <td>43.0</td>\n",
       "      <td>NaN</td>\n",
       "    </tr>\n",
       "  </tbody>\n",
       "</table>\n",
       "</div>"
      ],
      "text/plain": [
       "     Names   Age     City\n",
       "0  Aravind   NaN      Hyd\n",
       "1    Samar  21.0      Blr\n",
       "2      NaN  32.0  Chennai\n",
       "3     Siri  43.0      NaN"
      ]
     },
     "execution_count": 35,
     "metadata": {},
     "output_type": "execute_result"
    }
   ],
   "source": [
    "d1"
   ]
  },
  {
   "cell_type": "code",
   "execution_count": 36,
   "id": "ed0074cb-5d6c-4656-9aa0-a38015f22cf2",
   "metadata": {},
   "outputs": [
    {
     "data": {
      "text/plain": [
       "0    32.0\n",
       "1    21.0\n",
       "2    32.0\n",
       "3    43.0\n",
       "Name: Age, dtype: float64"
      ]
     },
     "execution_count": 36,
     "metadata": {},
     "output_type": "execute_result"
    }
   ],
   "source": [
    "age_mean=d1['Age'].mean()\n",
    "d1['Age'].fillna(age_mean)"
   ]
  },
  {
   "cell_type": "code",
   "execution_count": 37,
   "id": "d17c278a-388d-4765-bd72-241ae5160e20",
   "metadata": {},
   "outputs": [
    {
     "data": {
      "text/plain": [
       "0    32.0\n",
       "1    21.0\n",
       "2    32.0\n",
       "3    43.0\n",
       "Name: Age, dtype: float64"
      ]
     },
     "execution_count": 37,
     "metadata": {},
     "output_type": "execute_result"
    }
   ],
   "source": [
    "age_median=d1['Age'].median()\n",
    "d1['Age'].fillna(age_median)"
   ]
  },
  {
   "cell_type": "code",
   "execution_count": 38,
   "id": "5b7fe697-8989-4a07-bd5c-c6bcd60c4c71",
   "metadata": {},
   "outputs": [
    {
     "data": {
      "text/plain": [
       "0    21.0\n",
       "1    21.0\n",
       "2    32.0\n",
       "3    43.0\n",
       "Name: Age, dtype: float64"
      ]
     },
     "execution_count": 38,
     "metadata": {},
     "output_type": "execute_result"
    }
   ],
   "source": [
    "age_mode=d1['Age'].mode()\n",
    "d1['Age'].fillna(age_mode)"
   ]
  },
  {
   "cell_type": "code",
   "execution_count": 39,
   "id": "aa8baea2-1407-4da8-aab4-defde5d895c9",
   "metadata": {},
   "outputs": [
    {
     "data": {
      "text/plain": [
       "0        Blr\n",
       "1    Chennai\n",
       "2        Hyd\n",
       "Name: City, dtype: object"
      ]
     },
     "execution_count": 39,
     "metadata": {},
     "output_type": "execute_result"
    }
   ],
   "source": [
    "d1['City'].mode()"
   ]
  },
  {
   "cell_type": "markdown",
   "id": "ce2a4deb-0023-4ff9-b29b-e542f9425bdb",
   "metadata": {},
   "source": [
    "- Fill with random"
   ]
  },
  {
   "cell_type": "code",
   "execution_count": null,
   "id": "d60629ca-cb1a-4bf7-b895-5f26978a97dc",
   "metadata": {},
   "outputs": [],
   "source": [
    "**Method_5**\n",
    "\n",
    "**KNN imputer**\n",
    "\n",
    "- KNN: K neartest Neighbours\n",
    "\n",
    "- K is a hyper paramter means user can choose\n",
    "\n",
    "- It is distance metric: **Euclidian Distance**\n",
    "\n",
    "- KNN imputer will "
   ]
  },
  {
   "cell_type": "code",
   "execution_count": 41,
   "id": "c28b4815-9598-4156-b3ca-eb0f619f104a",
   "metadata": {},
   "outputs": [
    {
     "data": {
      "text/plain": [
       "array([[32.],\n",
       "       [21.],\n",
       "       [32.],\n",
       "       [43.]])"
      ]
     },
     "execution_count": 41,
     "metadata": {},
     "output_type": "execute_result"
    }
   ],
   "source": [
    "from sklearn.impute import KNNImputer\n",
    "knn=KNNImputer()\n",
    "knn.fit_transform(d1[['Age']])"
   ]
  },
  {
   "cell_type": "code",
   "execution_count": null,
   "id": "105004b6-8962-4e6b-8b37-3d07fb10c0bc",
   "metadata": {},
   "outputs": [],
   "source": []
  }
 ],
 "metadata": {
  "kernelspec": {
   "display_name": "Python 3 (ipykernel)",
   "language": "python",
   "name": "python3"
  },
  "language_info": {
   "codemirror_mode": {
    "name": "ipython",
    "version": 3
   },
   "file_extension": ".py",
   "mimetype": "text/x-python",
   "name": "python",
   "nbconvert_exporter": "python",
   "pygments_lexer": "ipython3",
   "version": "3.11.7"
  }
 },
 "nbformat": 4,
 "nbformat_minor": 5
}
